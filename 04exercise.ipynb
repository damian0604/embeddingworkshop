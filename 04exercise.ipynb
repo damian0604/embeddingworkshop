{
 "cells": [
  {
   "cell_type": "markdown",
   "metadata": {},
   "source": [
    "# Exercise Monday\n",
    "\n",
    "Train your own model"
   ]
  },
  {
   "cell_type": "code",
   "execution_count": 1,
   "metadata": {},
   "outputs": [
    {
     "name": "stderr",
     "output_type": "stream",
     "text": [
      "/usr/local/lib/python3.8/dist-packages/gensim/similarities/__init__.py:15: UserWarning: The gensim.similarities.levenshtein submodule is disabled, because the optional Levenshtein package <https://pypi.org/project/python-Levenshtein/> is unavailable. Install Levenhstein (e.g. `pip install python-Levenshtein`) to suppress this warning.\n",
      "  warnings.warn(msg)\n"
     ]
    }
   ],
   "source": [
    "from nltk.tokenize import sent_tokenize\n",
    "import string\n",
    "import re\n",
    "\n",
    "# tqdm allows you to display progress bars in loops\n",
    "from tqdm import tqdm\n",
    "from datetime import datetime\n",
    "\n",
    "# you need to have courseutils.py in the same folder\n",
    "from courseutils import get_review_data\n",
    "\n",
    "import gensim\n",
    "\n",
    "# lets get more output\n",
    "import logging\n",
    "logging.basicConfig(format='%(asctime)s : %(levelname)s : %(message)s', level=logging.INFO)"
   ]
  },
  {
   "cell_type": "markdown",
   "metadata": {},
   "source": [
    "note that there are some slight syntax changes between gensim 3 and 4; notebook is now optimized for gensim 4."
   ]
  },
  {
   "cell_type": "code",
   "execution_count": 2,
   "metadata": {},
   "outputs": [
    {
     "data": {
      "text/plain": [
       "'4.0.1'"
      ]
     },
     "execution_count": 2,
     "metadata": {},
     "output_type": "execute_result"
    }
   ],
   "source": [
    "gensim.__version__"
   ]
  },
  {
   "cell_type": "markdown",
   "metadata": {},
   "source": [
    "## Step 1: Get a lot of texts\n",
    "\n",
    "I'll just take the movie reviews here, but you are *very much encouraged* to take your own data. Use any method to get them into a long list (or similar)."
   ]
  },
  {
   "cell_type": "code",
   "execution_count": 3,
   "metadata": {},
   "outputs": [
    {
     "name": "stdout",
     "output_type": "stream",
     "text": [
      "Using cached file reviewdata.pickle.bz2\n"
     ]
    }
   ],
   "source": [
    "train, test, _, _ = get_review_data()"
   ]
  },
  {
   "cell_type": "code",
   "execution_count": 4,
   "metadata": {},
   "outputs": [
    {
     "name": "stdout",
     "output_type": "stream",
     "text": [
      "The original dataset has two sets of reviews of length 25000 and 25000\n",
      "We merged them into one list of 50000 reviews\n"
     ]
    }
   ],
   "source": [
    "# we just need one list\n",
    "print(f\"The original dataset has two sets of reviews of length {len(train)} and {len(test)}\")\n",
    "train.extend(test)\n",
    "del test\n",
    "print(f\"We merged them into one list of {len(train)} reviews\")"
   ]
  },
  {
   "cell_type": "code",
   "execution_count": 5,
   "metadata": {},
   "outputs": [
    {
     "data": {
      "text/plain": [
       "['I rented I AM CURIOUS-YELLOW from my video store because of all the controversy that surrounded it when it was first released in 1967. I also heard that at first it was seized by U.S. customs if it ever tried to enter this country, therefore being a fan of films considered \"controversial\" I really had to see this for myself.<br /><br />The plot is centered around a young Swedish drama student named Lena who wants to learn everything she can about life. In particular she wants to focus her attentions to making some sort of documentary on what the average Swede thought about certain political issues such as the Vietnam War and race issues in the United States. In between asking politicians and ordinary denizens of Stockholm about their opinions on politics, she has sex with her drama teacher, classmates, and married men.<br /><br />What kills me about I AM CURIOUS-YELLOW is that 40 years ago, this was considered pornographic. Really, the sex and nudity scenes are few and far between, even then it\\'s not shot like some cheaply made porno. While my countrymen mind find it shocking, in reality sex and nudity are a major staple in Swedish cinema. Even Ingmar Bergman, arguably their answer to good old boy John Ford, had sex scenes in his films.<br /><br />I do commend the filmmakers for the fact that any sex shown in the film is shown for artistic purposes rather than just to shock people and make money to be shown in pornographic theaters in America. I AM CURIOUS-YELLOW is a good film for anyone wanting to study the meat and potatoes (no pun intended) of Swedish cinema. But really, this film doesn\\'t have much of a plot.',\n",
       " '\"I Am Curious: Yellow\" is a risible and pretentious steaming pile. It doesn\\'t matter what one\\'s political views are because this film can hardly be taken seriously on any level. As for the claim that frontal male nudity is an automatic NC-17, that isn\\'t true. I\\'ve seen R-rated films with male nudity. Granted, they only offer some fleeting views, but where are the R-rated films with gaping vulvas and flapping labia? Nowhere, because they don\\'t exist. The same goes for those crappy cable shows: schlongs swinging in the breeze but not a clitoris in sight. And those pretentious indie movies like The Brown Bunny, in which we\\'re treated to the site of Vincent Gallo\\'s throbbing johnson, but not a trace of pink visible on Chloe Sevigny. Before crying (or implying) \"double-standard\" in matters of nudity, the mentally obtuse should take into account one unavoidably obvious anatomical difference between men and women: there are no genitals on display when actresses appears nude, and the same cannot be said for a man. In fact, you generally won\\'t see female genitals in an American film in anything short of porn or explicit erotica. This alleged double-standard is less a double standard than an admittedly depressing ability to come to terms culturally with the insides of women\\'s bodies.',\n",
       " \"If only to avoid making this type of film in the future. This film is interesting as an experiment but tells no cogent story.<br /><br />One might feel virtuous for sitting thru it because it touches on so many IMPORTANT issues but it does so without any discernable motive. The viewer comes away with no new perspectives (unless one comes up with one while one's mind wanders, as it will invariably do during this pointless film).<br /><br />One might better spend one's time staring out a window at a tree growing.<br /><br />\"]"
      ]
     },
     "execution_count": 5,
     "metadata": {},
     "output_type": "execute_result"
    }
   ],
   "source": [
    "train[:3]"
   ]
  },
  {
   "cell_type": "markdown",
   "metadata": {},
   "source": [
    "## Step 2: Reformat\n",
    "We want to train on sentences, not on whole reviews. We don't need a list of reviews, but a list of sentences.\n",
    "\n",
    "Also, **we only want unique sentences**. It has been shown that this improves the resulting models (and it speeds up training, of course).\n",
    "\n",
    "There are different ways of achieving this, here is one. Some remarks:\n",
    "\n",
    "- tqdm displays a progress bar - it's not strictly necessary\n",
    "- a set is like a list without order, and all items are guaranteed to be unique. You could also use a list, but this is faster. Then, you need to use `uniquesentences = []` and `.append()` instead of `.add()`\n",
    "- we also remove punctuation \n",
    "- depending on whether the texts we want to use our model on later on are lowercased or not, we have to (or not) lowercase here as well. That's a decision to make."
   ]
  },
  {
   "cell_type": "code",
   "execution_count": 6,
   "metadata": {},
   "outputs": [
    {
     "name": "stderr",
     "output_type": "stream",
     "text": [
      "100%|██████████| 50000/50000 [00:23<00:00, 2108.75it/s]\n"
     ]
    }
   ],
   "source": [
    "trans = str.maketrans('', '', string.punctuation) # translation scheme for removing punctuation\n",
    "uniquesentences = set()\n",
    "for review in tqdm(train):\n",
    "    for sentence in sent_tokenize(review):\n",
    "        # remove HTML tags in there\n",
    "        sentence = re.sub(r\"<.*?>\",\" \",sentence)\n",
    "        sentence = sentence.translate(trans) \n",
    "        if sentence not in uniquesentences:\n",
    "            uniquesentences.add(sentence.lower())"
   ]
  },
  {
   "cell_type": "code",
   "execution_count": 7,
   "metadata": {},
   "outputs": [
    {
     "name": "stdout",
     "output_type": "stream",
     "text": [
      "We now have 516343 unique sentences.\n"
     ]
    }
   ],
   "source": [
    "print(f\"We now have {len(uniquesentences)} unique sentences.\")"
   ]
  },
  {
   "cell_type": "code",
   "execution_count": 8,
   "metadata": {},
   "outputs": [],
   "source": [
    "# if we want to, we can turn the set into a list and expect it, e.g. like this:\n",
    "# list(uniquesentences)[:10]"
   ]
  },
  {
   "cell_type": "markdown",
   "metadata": {},
   "source": [
    "**Note that unqiesentences can be also a generator that reads from disk (or from elsewhere) for the next step. Hence, it is possible to train models on more sentences than fit in your memory!**"
   ]
  },
  {
   "cell_type": "markdown",
   "metadata": {},
   "source": [
    "## Step 3: Train the model\n",
    "\n",
    "That's really straightforward in gensim"
   ]
  },
  {
   "cell_type": "code",
   "execution_count": 9,
   "metadata": {},
   "outputs": [],
   "source": [
    "# we do not need a list of lists of tokens later on, so let's use a generator instead of a list to save memory\n",
    "# note that we use round parentheses instead of square brackets to achieve this\n",
    "# we do need two generators, though, as we first need to build the vocabulary and later need to train.\n",
    "# If we use a list, we obviously only need once.\n",
    "tokenizedsentences = (sentence.split() for sentence in uniquesentences)\n",
    "tokenizedsentences2 = (sentence.split() for sentence in uniquesentences)"
   ]
  },
  {
   "cell_type": "code",
   "execution_count": 10,
   "metadata": {},
   "outputs": [
    {
     "name": "stderr",
     "output_type": "stream",
     "text": [
      "2021-04-12 16:27:33,430 : INFO : Word2Vec lifecycle event {'params': 'Word2Vec(vocab=0, vector_size=300, alpha=0.025)', 'datetime': '2021-04-12T16:27:33.414547', 'gensim': '4.0.1', 'python': '3.8.5 (default, Jan 27 2021, 15:41:15) \\n[GCC 9.3.0]', 'platform': 'Linux-5.4.0-70-generic-x86_64-with-glibc2.29', 'event': 'created'}\n",
      "2021-04-12 16:27:33,434 : INFO : collecting all words and their counts\n",
      "2021-04-12 16:27:33,437 : INFO : PROGRESS: at sentence #0, processed 0 words, keeping 0 word types\n",
      "2021-04-12 16:27:33,524 : INFO : PROGRESS: at sentence #10000, processed 221721 words, keeping 20957 word types\n"
     ]
    },
    {
     "name": "stdout",
     "output_type": "stream",
     "text": [
      "Started setting up the model at 2021-04-12 16:27:33.413284\n"
     ]
    },
    {
     "name": "stderr",
     "output_type": "stream",
     "text": [
      "2021-04-12 16:27:33,618 : INFO : PROGRESS: at sentence #20000, processed 439294 words, keeping 30490 word types\n",
      "2021-04-12 16:27:33,714 : INFO : PROGRESS: at sentence #30000, processed 657198 words, keeping 37533 word types\n",
      "2021-04-12 16:27:33,787 : INFO : PROGRESS: at sentence #40000, processed 875430 words, keeping 43647 word types\n",
      "2021-04-12 16:27:33,876 : INFO : PROGRESS: at sentence #50000, processed 1093972 words, keeping 49009 word types\n",
      "2021-04-12 16:27:33,969 : INFO : PROGRESS: at sentence #60000, processed 1311636 words, keeping 53803 word types\n",
      "2021-04-12 16:27:34,067 : INFO : PROGRESS: at sentence #70000, processed 1532107 words, keeping 58239 word types\n",
      "2021-04-12 16:27:34,153 : INFO : PROGRESS: at sentence #80000, processed 1753720 words, keeping 62645 word types\n",
      "2021-04-12 16:27:34,233 : INFO : PROGRESS: at sentence #90000, processed 1972107 words, keeping 66547 word types\n",
      "2021-04-12 16:27:34,321 : INFO : PROGRESS: at sentence #100000, processed 2191339 words, keeping 70269 word types\n",
      "2021-04-12 16:27:34,406 : INFO : PROGRESS: at sentence #110000, processed 2408890 words, keeping 73859 word types\n",
      "2021-04-12 16:27:34,483 : INFO : PROGRESS: at sentence #120000, processed 2626613 words, keeping 77153 word types\n",
      "2021-04-12 16:27:34,581 : INFO : PROGRESS: at sentence #130000, processed 2844148 words, keeping 80495 word types\n",
      "2021-04-12 16:27:34,669 : INFO : PROGRESS: at sentence #140000, processed 3061127 words, keeping 83587 word types\n",
      "2021-04-12 16:27:34,768 : INFO : PROGRESS: at sentence #150000, processed 3279259 words, keeping 86623 word types\n",
      "2021-04-12 16:27:34,869 : INFO : PROGRESS: at sentence #160000, processed 3497603 words, keeping 89576 word types\n",
      "2021-04-12 16:27:34,964 : INFO : PROGRESS: at sentence #170000, processed 3716590 words, keeping 92449 word types\n",
      "2021-04-12 16:27:35,042 : INFO : PROGRESS: at sentence #180000, processed 3933837 words, keeping 95138 word types\n",
      "2021-04-12 16:27:35,125 : INFO : PROGRESS: at sentence #190000, processed 4152551 words, keeping 97808 word types\n",
      "2021-04-12 16:27:35,207 : INFO : PROGRESS: at sentence #200000, processed 4374219 words, keeping 100737 word types\n",
      "2021-04-12 16:27:35,285 : INFO : PROGRESS: at sentence #210000, processed 4590528 words, keeping 103341 word types\n",
      "2021-04-12 16:27:35,370 : INFO : PROGRESS: at sentence #220000, processed 4810900 words, keeping 105947 word types\n",
      "2021-04-12 16:27:35,453 : INFO : PROGRESS: at sentence #230000, processed 5027257 words, keeping 108499 word types\n",
      "2021-04-12 16:27:35,545 : INFO : PROGRESS: at sentence #240000, processed 5243673 words, keeping 110947 word types\n",
      "2021-04-12 16:27:35,620 : INFO : PROGRESS: at sentence #250000, processed 5463285 words, keeping 113325 word types\n",
      "2021-04-12 16:27:35,696 : INFO : PROGRESS: at sentence #260000, processed 5681910 words, keeping 115578 word types\n",
      "2021-04-12 16:27:35,773 : INFO : PROGRESS: at sentence #270000, processed 5901118 words, keeping 117913 word types\n",
      "2021-04-12 16:27:35,854 : INFO : PROGRESS: at sentence #280000, processed 6120871 words, keeping 120275 word types\n",
      "2021-04-12 16:27:35,930 : INFO : PROGRESS: at sentence #290000, processed 6337246 words, keeping 122479 word types\n",
      "2021-04-12 16:27:36,008 : INFO : PROGRESS: at sentence #300000, processed 6558825 words, keeping 124765 word types\n",
      "2021-04-12 16:27:36,093 : INFO : PROGRESS: at sentence #310000, processed 6777691 words, keeping 127007 word types\n",
      "2021-04-12 16:27:36,168 : INFO : PROGRESS: at sentence #320000, processed 6993671 words, keeping 129131 word types\n",
      "2021-04-12 16:27:36,248 : INFO : PROGRESS: at sentence #330000, processed 7211475 words, keeping 131365 word types\n",
      "2021-04-12 16:27:36,337 : INFO : PROGRESS: at sentence #340000, processed 7431050 words, keeping 133475 word types\n",
      "2021-04-12 16:27:36,403 : INFO : PROGRESS: at sentence #350000, processed 7648856 words, keeping 135684 word types\n",
      "2021-04-12 16:27:36,481 : INFO : PROGRESS: at sentence #360000, processed 7868476 words, keeping 137826 word types\n",
      "2021-04-12 16:27:36,557 : INFO : PROGRESS: at sentence #370000, processed 8082803 words, keeping 139786 word types\n",
      "2021-04-12 16:27:36,635 : INFO : PROGRESS: at sentence #380000, processed 8303408 words, keeping 141853 word types\n",
      "2021-04-12 16:27:36,713 : INFO : PROGRESS: at sentence #390000, processed 8522146 words, keeping 143740 word types\n",
      "2021-04-12 16:27:36,785 : INFO : PROGRESS: at sentence #400000, processed 8738834 words, keeping 145603 word types\n",
      "2021-04-12 16:27:36,892 : INFO : PROGRESS: at sentence #410000, processed 8959122 words, keeping 147594 word types\n",
      "2021-04-12 16:27:36,985 : INFO : PROGRESS: at sentence #420000, processed 9177237 words, keeping 149584 word types\n",
      "2021-04-12 16:27:37,051 : INFO : PROGRESS: at sentence #430000, processed 9395253 words, keeping 151545 word types\n",
      "2021-04-12 16:27:37,136 : INFO : PROGRESS: at sentence #440000, processed 9611618 words, keeping 153297 word types\n",
      "2021-04-12 16:27:37,209 : INFO : PROGRESS: at sentence #450000, processed 9828907 words, keeping 155252 word types\n",
      "2021-04-12 16:27:37,309 : INFO : PROGRESS: at sentence #460000, processed 10047044 words, keeping 157138 word types\n",
      "2021-04-12 16:27:37,391 : INFO : PROGRESS: at sentence #470000, processed 10263660 words, keeping 158987 word types\n",
      "2021-04-12 16:27:37,462 : INFO : PROGRESS: at sentence #480000, processed 10480614 words, keeping 160748 word types\n",
      "2021-04-12 16:27:37,542 : INFO : PROGRESS: at sentence #490000, processed 10698883 words, keeping 162591 word types\n",
      "2021-04-12 16:27:37,623 : INFO : PROGRESS: at sentence #500000, processed 10917409 words, keeping 164420 word types\n",
      "2021-04-12 16:27:37,706 : INFO : PROGRESS: at sentence #510000, processed 11134336 words, keeping 166281 word types\n",
      "2021-04-12 16:27:37,751 : INFO : collected 167386 word types from a corpus of 11272631 raw words and 516343 sentences\n",
      "2021-04-12 16:27:37,751 : INFO : Creating a fresh vocabulary\n",
      "2021-04-12 16:27:38,018 : INFO : Word2Vec lifecycle event {'msg': 'effective_min_count=5 retains 42926 unique words (25.644916540212442%% of original 167386, drops 124460)', 'datetime': '2021-04-12T16:27:38.018301', 'gensim': '4.0.1', 'python': '3.8.5 (default, Jan 27 2021, 15:41:15) \\n[GCC 9.3.0]', 'platform': 'Linux-5.4.0-70-generic-x86_64-with-glibc2.29', 'event': 'prepare_vocab'}\n",
      "2021-04-12 16:27:38,020 : INFO : Word2Vec lifecycle event {'msg': 'effective_min_count=5 leaves 11096425 word corpus (98.43686890842076%% of original 11272631, drops 176206)', 'datetime': '2021-04-12T16:27:38.019983', 'gensim': '4.0.1', 'python': '3.8.5 (default, Jan 27 2021, 15:41:15) \\n[GCC 9.3.0]', 'platform': 'Linux-5.4.0-70-generic-x86_64-with-glibc2.29', 'event': 'prepare_vocab'}\n",
      "2021-04-12 16:27:38,385 : INFO : deleting the raw counts dictionary of 167386 items\n",
      "2021-04-12 16:27:38,388 : INFO : sample=0.001 downsamples 47 most-common words\n",
      "2021-04-12 16:27:38,389 : INFO : Word2Vec lifecycle event {'msg': 'downsampling leaves estimated 8359192.91490145 word corpus (75.3%% of prior 11096425)', 'datetime': '2021-04-12T16:27:38.389576', 'gensim': '4.0.1', 'python': '3.8.5 (default, Jan 27 2021, 15:41:15) \\n[GCC 9.3.0]', 'platform': 'Linux-5.4.0-70-generic-x86_64-with-glibc2.29', 'event': 'prepare_vocab'}\n",
      "2021-04-12 16:27:38,958 : INFO : estimated required memory for 42926 words and 300 dimensions: 124485400 bytes\n",
      "2021-04-12 16:27:38,959 : INFO : resetting layer weights\n",
      "2021-04-12 16:27:39,036 : INFO : Word2Vec lifecycle event {'update': False, 'trim_rule': 'None', 'datetime': '2021-04-12T16:27:39.036885', 'gensim': '4.0.1', 'python': '3.8.5 (default, Jan 27 2021, 15:41:15) \\n[GCC 9.3.0]', 'platform': 'Linux-5.4.0-70-generic-x86_64-with-glibc2.29', 'event': 'build_vocab'}\n",
      "2021-04-12 16:27:39,038 : INFO : Word2Vec lifecycle event {'msg': 'training model with 3 workers on 42926 vocabulary and 300 features, using sg=0 hs=0 sample=0.001 negative=5 window=5', 'datetime': '2021-04-12T16:27:39.038108', 'gensim': '4.0.1', 'python': '3.8.5 (default, Jan 27 2021, 15:41:15) \\n[GCC 9.3.0]', 'platform': 'Linux-5.4.0-70-generic-x86_64-with-glibc2.29', 'event': 'train'}\n"
     ]
    },
    {
     "name": "stdout",
     "output_type": "stream",
     "text": [
      "Started training at 2021-04-12 16:27:39.037937\n"
     ]
    },
    {
     "name": "stderr",
     "output_type": "stream",
     "text": [
      "2021-04-12 16:27:40,067 : INFO : EPOCH 1 - PROGRESS: at 4.76% examples, 392610 words/s, in_qsize 5, out_qsize 1\n",
      "2021-04-12 16:27:41,103 : INFO : EPOCH 1 - PROGRESS: at 9.98% examples, 407286 words/s, in_qsize 5, out_qsize 0\n",
      "2021-04-12 16:27:42,113 : INFO : EPOCH 1 - PROGRESS: at 15.17% examples, 415626 words/s, in_qsize 5, out_qsize 0\n",
      "2021-04-12 16:27:43,119 : INFO : EPOCH 1 - PROGRESS: at 19.50% examples, 401903 words/s, in_qsize 6, out_qsize 0\n",
      "2021-04-12 16:27:44,121 : INFO : EPOCH 1 - PROGRESS: at 25.00% examples, 413025 words/s, in_qsize 4, out_qsize 1\n",
      "2021-04-12 16:27:45,132 : INFO : EPOCH 1 - PROGRESS: at 30.68% examples, 422326 words/s, in_qsize 6, out_qsize 0\n",
      "2021-04-12 16:27:46,153 : INFO : EPOCH 1 - PROGRESS: at 36.27% examples, 427302 words/s, in_qsize 6, out_qsize 2\n",
      "2021-04-12 16:27:47,155 : INFO : EPOCH 1 - PROGRESS: at 43.07% examples, 444739 words/s, in_qsize 6, out_qsize 0\n",
      "2021-04-12 16:27:48,181 : INFO : EPOCH 1 - PROGRESS: at 49.91% examples, 457240 words/s, in_qsize 5, out_qsize 0\n",
      "2021-04-12 16:27:49,195 : INFO : EPOCH 1 - PROGRESS: at 55.92% examples, 461252 words/s, in_qsize 6, out_qsize 0\n",
      "2021-04-12 16:27:50,206 : INFO : EPOCH 1 - PROGRESS: at 62.71% examples, 470554 words/s, in_qsize 5, out_qsize 0\n",
      "2021-04-12 16:27:51,208 : INFO : EPOCH 1 - PROGRESS: at 69.62% examples, 479329 words/s, in_qsize 5, out_qsize 0\n",
      "2021-04-12 16:27:52,210 : INFO : EPOCH 1 - PROGRESS: at 76.10% examples, 483920 words/s, in_qsize 6, out_qsize 0\n",
      "2021-04-12 16:27:53,233 : INFO : EPOCH 1 - PROGRESS: at 82.91% examples, 489214 words/s, in_qsize 5, out_qsize 2\n",
      "2021-04-12 16:27:54,256 : INFO : EPOCH 1 - PROGRESS: at 89.78% examples, 493759 words/s, in_qsize 5, out_qsize 0\n",
      "2021-04-12 16:27:55,259 : INFO : EPOCH 1 - PROGRESS: at 96.26% examples, 496520 words/s, in_qsize 5, out_qsize 0\n",
      "2021-04-12 16:27:55,800 : INFO : worker thread finished; awaiting finish of 2 more threads\n",
      "2021-04-12 16:27:55,800 : INFO : worker thread finished; awaiting finish of 1 more threads\n",
      "2021-04-12 16:27:55,813 : INFO : worker thread finished; awaiting finish of 0 more threads\n",
      "2021-04-12 16:27:55,814 : INFO : EPOCH - 1 : training on 11272631 raw words (8360926 effective words) took 16.8s, 498746 effective words/s\n",
      "2021-04-12 16:27:55,815 : INFO : Word2Vec lifecycle event {'msg': 'training on 11272631 raw words (8360926 effective words) took 16.8s, 498372 effective words/s', 'datetime': '2021-04-12T16:27:55.815357', 'gensim': '4.0.1', 'python': '3.8.5 (default, Jan 27 2021, 15:41:15) \\n[GCC 9.3.0]', 'platform': 'Linux-5.4.0-70-generic-x86_64-with-glibc2.29', 'event': 'train'}\n"
     ]
    },
    {
     "name": "stdout",
     "output_type": "stream",
     "text": [
      "Finished training at 2021-04-12 16:27:55.817499\n"
     ]
    }
   ],
   "source": [
    "print(f\"Started setting up the model at {datetime.now()}\")\n",
    "model = gensim.models.Word2Vec(vector_size=300) # we want 300 dimensions\n",
    "model.build_vocab(tokenizedsentences)\n",
    "print(f\"Started training at {datetime.now()}\")\n",
    "model.train(tokenizedsentences2, total_examples=model.corpus_count,  epochs=1)\n",
    "# our model gets better if we use more epochs, but we can only do so if we use a list instead of a generator as input\n",
    "# after all, you can only pass over a generator once.\n",
    "# model.train(tokenizedsentences2, total_examples=model.corpus_count,  epochs=model.epochs)\n",
    "print(f\"Finished training at {datetime.now()}\")"
   ]
  },
  {
   "cell_type": "code",
   "execution_count": 11,
   "metadata": {},
   "outputs": [],
   "source": [
    "gensim.models.Word2Vec?"
   ]
  },
  {
   "cell_type": "code",
   "execution_count": 12,
   "metadata": {},
   "outputs": [
    {
     "name": "stderr",
     "output_type": "stream",
     "text": [
      "2021-04-12 15:24:42,147 : INFO : Word2Vec lifecycle event {'fname_or_handle': 'mymodel', 'separately': 'None', 'sep_limit': 10485760, 'ignore': frozenset(), 'datetime': '2021-04-12T15:24:42.147503', 'gensim': '4.0.1', 'python': '3.8.5 (default, Jan 27 2021, 15:41:15) \\n[GCC 9.3.0]', 'platform': 'Linux-5.4.0-70-generic-x86_64-with-glibc2.29', 'event': 'saving'}\n",
      "2021-04-12 15:24:42,149 : INFO : storing np array 'vectors' to mymodel.wv.vectors.npy\n",
      "2021-04-12 15:24:42,405 : INFO : storing np array 'syn1neg' to mymodel.syn1neg.npy\n",
      "2021-04-12 15:24:42,615 : INFO : not storing attribute cum_table\n",
      "2021-04-12 15:24:42,647 : INFO : saved mymodel\n"
     ]
    }
   ],
   "source": [
    "model.save(\"mymodel\")"
   ]
  },
  {
   "cell_type": "code",
   "execution_count": 11,
   "metadata": {},
   "outputs": [
    {
     "name": "stderr",
     "output_type": "stream",
     "text": [
      "2021-04-12 16:27:55,823 : INFO : loading Word2Vec object from mymodel\n",
      "2021-04-12 16:27:55,837 : INFO : loading wv recursively from mymodel.wv.* with mmap=None\n",
      "2021-04-12 16:27:55,838 : INFO : loading vectors from mymodel.wv.vectors.npy with mmap=None\n",
      "2021-04-12 16:27:55,893 : INFO : loading syn1neg from mymodel.syn1neg.npy with mmap=None\n",
      "2021-04-12 16:27:55,951 : INFO : setting ignored attribute cum_table to None\n",
      "2021-04-12 16:27:56,442 : INFO : Word2Vec lifecycle event {'fname': 'mymodel', 'datetime': '2021-04-12T16:27:56.442229', 'gensim': '4.0.1', 'python': '3.8.5 (default, Jan 27 2021, 15:41:15) \\n[GCC 9.3.0]', 'platform': 'Linux-5.4.0-70-generic-x86_64-with-glibc2.29', 'event': 'loaded'}\n"
     ]
    }
   ],
   "source": [
    "# and load it again, just to check\n",
    "mymodel = gensim.models.Word2Vec.load(\"mymodel\")"
   ]
  },
  {
   "cell_type": "markdown",
   "metadata": {},
   "source": [
    "# Step 4: Play with the model"
   ]
  },
  {
   "cell_type": "code",
   "execution_count": 12,
   "metadata": {},
   "outputs": [
    {
     "name": "stdout",
     "output_type": "stream",
     "text": [
      "A cat is almost the same as a prostitute.\n",
      "A dog is almost the same as a baby.\n",
      "A horse is almost the same as a nearby.\n",
      "A goldfish is almost the same as a necklace.\n",
      "A lion is almost the same as a e.\n"
     ]
    }
   ],
   "source": [
    "animals = ['cat', 'dog', 'horse', 'goldfish', 'lion']\n",
    "for animal in animals:\n",
    "    try:\n",
    "        print(f\"A {animal} is almost the same as a {model.wv.most_similar(animal)[0][0]}.\")\n",
    "    except Exception as e:\n",
    "        print(e)"
   ]
  },
  {
   "cell_type": "code",
   "execution_count": 13,
   "metadata": {},
   "outputs": [
    {
     "name": "stdout",
     "output_type": "stream",
     "text": [
      "A director is almost the same as a writer.\n",
      "A actor is almost the same as a actress.\n",
      "A bad is almost the same as a good.\n",
      "A good is almost the same as a great.\n"
     ]
    }
   ],
   "source": [
    "animals = ['director', 'actor', 'bad', 'good']\n",
    "for animal in animals:\n",
    "    try:\n",
    "        print(f\"A {animal} is almost the same as a {model.wv.most_similar(animal)[0][0]}.\")\n",
    "    except Exception as e:\n",
    "        print(e)"
   ]
  },
  {
   "cell_type": "code",
   "execution_count": 14,
   "metadata": {},
   "outputs": [
    {
     "data": {
      "text/plain": [
       "[('suspense', 0.7744678854942322),\n",
       " ('gore', 0.7704658508300781),\n",
       " ('cheesy', 0.7277170419692993),\n",
       " ('mood', 0.7219430804252625),\n",
       " ('humor', 0.7016021609306335),\n",
       " ('horror', 0.7011061906814575),\n",
       " ('atmosphere', 0.6994731426239014),\n",
       " ('standard', 0.6988764405250549),\n",
       " ('comedy', 0.6987765431404114),\n",
       " ('animation', 0.6933031678199768)]"
      ]
     },
     "execution_count": 14,
     "metadata": {},
     "output_type": "execute_result"
    }
   ],
   "source": [
    "model.wv.most_similar(\"action\")"
   ]
  },
  {
   "cell_type": "code",
   "execution_count": 15,
   "metadata": {},
   "outputs": [
    {
     "data": {
      "text/plain": [
       "[('film', 0.9253765940666199),\n",
       " ('show', 0.78529292345047),\n",
       " ('flick', 0.7525607943534851),\n",
       " ('picture', 0.7407713532447815),\n",
       " ('sequel', 0.7359285950660706),\n",
       " ('documentary', 0.7234815359115601),\n",
       " ('series', 0.6944517493247986),\n",
       " ('it', 0.6859331727027893),\n",
       " ('game', 0.6657994985580444),\n",
       " ('crap', 0.6631059050559998)]"
      ]
     },
     "execution_count": 15,
     "metadata": {},
     "output_type": "execute_result"
    }
   ],
   "source": [
    "model.wv.most_similar(\"movie\")"
   ]
  },
  {
   "cell_type": "markdown",
   "metadata": {},
   "source": [
    "# 5 Adapt\n",
    "\n",
    "Now it's time to dive into the gensim documentation (online or via `?` / tab completion) to figure out the options you have - e.g., skipgram vs CBOW, dimensions, etc."
   ]
  },
  {
   "cell_type": "code",
   "execution_count": null,
   "metadata": {},
   "outputs": [],
   "source": []
  },
  {
   "cell_type": "markdown",
   "metadata": {},
   "source": [
    "# Other things we can do\n",
    "\n",
    "Some things that came up.\n",
    "\n",
    "\n",
    "## Dictionary expansion\n",
    "\n",
    "One cool thing that we can do is to expand a list of words with near-synonyms. For instance, imagine we use a simple keyword-based approach to count how often some word we are interested in occurs in a corpus. But maybe we forgot one? In that case, why not expand our list with (near-)synonyms from an embedding model?"
   ]
  },
  {
   "cell_type": "code",
   "execution_count": 41,
   "metadata": {},
   "outputs": [
    {
     "name": "stdout",
     "output_type": "stream",
     "text": [
      "['action', 'horror', 'comedy', 'nature', 'family', 'cartoon', 'suspense', 'gore', 'cheesy', 'mood', 'humor', 'horror', 'atmosphere', 'standard', 'comedy', 'animation', 'scifi', 'slasher', 'genre', 'classic', 'lowbudget', 'trash', 'b', 'hollywood', 'zombie', 'comedy', 'thriller', 'drama', 'flick', 'genre', 'masterpiece', 'premise', 'entertainment', 'romance', 'piece', 'documentary', 'beauty', 'essence', 'realism', 'moral', 'strength', 'complexity', 'emotions', 'intensity', 'behavior', 'structure', 'business', 'country', 'dreams', 'town', 'friendship', 'feelings', 'heart', 'daughter', 'hero', 'friends', 'miniseries', 'anime', 'documentary', 'turkey', 'hitcher', 'sitcom', 'franchise', '80s', 'masterpiece', 'series']\n"
     ]
    }
   ],
   "source": [
    "# let's get the most similar words to our seed words\n",
    "seedlist = ['action', 'horror', 'comedy','nature','family','cartoon']\n",
    "words = seedlist.copy()\n",
    "for w in seedlist:\n",
    "    words.extend([e[0] for e in model.wv.most_similar(w)])\n",
    "\n",
    "print(words)"
   ]
  },
  {
   "cell_type": "code",
   "execution_count": null,
   "metadata": {},
   "outputs": [],
   "source": []
  },
  {
   "cell_type": "markdown",
   "metadata": {},
   "source": [
    "## Plotting\n",
    "\n",
    "We can also use a method called tsne (from our good friend scikit-learn) to make a two-dimensional projection of our 300-dimensional embeddings to plot the distances of the words (not the most interesting data here, but you get the idea):"
   ]
  },
  {
   "cell_type": "code",
   "execution_count": 45,
   "metadata": {},
   "outputs": [],
   "source": [
    "from sklearn.manifold import TSNE\n",
    "import matplotlib.pyplot as plt"
   ]
  },
  {
   "cell_type": "code",
   "execution_count": 46,
   "metadata": {},
   "outputs": [],
   "source": [
    "def plot_words(words, model):\n",
    "    '''takes a list of words and a word embedding model as input and plots the words\n",
    "    in a 2-dimensional projection of the space'''\n",
    "    # make sure words are unique:\n",
    "    words = list(set(words))\n",
    "    X = model.wv[words]\n",
    "    tsne = TSNE(n_components=2)\n",
    "    X_tsne = tsne.fit_transform(X)\n",
    "\n",
    "    fig = plt.figure()\n",
    "    ax = fig.add_subplot(1, 1, 1)\n",
    "    ax.scatter(X_tsne[:, 0], X_tsne[:, 1])\n",
    "    for w, pos in zip(words,X_tsne):\n",
    "        ax.annotate(w, pos)"
   ]
  },
  {
   "cell_type": "code",
   "execution_count": 47,
   "metadata": {},
   "outputs": [
    {
     "data": {
      "image/png": "[encoded data removed]",
      "text/plain": [
       "<Figure size 432x288 with 1 Axes>"
      ]
     },
     "metadata": {
      "needs_background": "light"
     },
     "output_type": "display_data"
    }
   ],
   "source": [
    "plot_words(words, model)\n"
   ]
  },
  {
   "cell_type": "code",
   "execution_count": null,
   "metadata": {},
   "outputs": [],
   "source": []
  }
 ],
 "metadata": {
  "kernelspec": {
   "display_name": "Python 3",
   "language": "python",
   "name": "python3"
  },
  "language_info": {
   "codemirror_mode": {
    "name": "ipython",
    "version": 3
   },
   "file_extension": ".py",
   "mimetype": "text/x-python",
   "name": "python",
   "nbconvert_exporter": "python",
   "pygments_lexer": "ipython3",
   "version": "3.8.5"
  }
 },
 "nbformat": 4,
 "nbformat_minor": 4
}
